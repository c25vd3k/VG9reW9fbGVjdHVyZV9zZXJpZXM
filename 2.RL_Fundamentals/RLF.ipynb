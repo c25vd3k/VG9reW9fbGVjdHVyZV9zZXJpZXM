{
 "cells": [
  {
   "cell_type": "markdown",
   "metadata": {
    "id": "gIwkMy9WnrRn"
   },
   "source": [
    "# <center> Reinforcement Learning Fundamentals</center>"
   ]
  },
  {
   "cell_type": "markdown",
   "metadata": {
    "id": "FY8sb3WLnrT6"
   },
   "source": [
    "#### Import dependencies"
   ]
  },
  {
   "cell_type": "code",
   "execution_count": null,
   "metadata": {
    "id": "xHhQP_yrnrUA"
   },
   "outputs": [],
   "source": [
    "import matplotlib.pyplot as plt\n",
    "import matplotlib.animation as animation\n",
    "import numpy as np\n",
    "import pickle\n",
    "\n",
    "import sys\n",
    "import os\n",
    "\n",
    "from RLF_Support.helper import *\n",
    "from ece4078.gym_simple_gridworlds.envs.grid_env import GridEnv\n",
    "from ece4078.gym_simple_gridworlds.envs.grid_2dplot import *\n",
    "\n",
    "from IPython.display import display, HTML"
   ]
  },
  {
   "cell_type": "markdown",
   "metadata": {
    "id": "rRjfoz-_nrYs"
   },
   "source": [
    "# Activity 1. Iterative Policy Evaluation\n",
    "\n",
    "Recall the definition of the iterative policy evaluation algorithm\n",
    "\n",
    "![IterativePolicyEvaluation.png](https://i.postimg.cc/MGbJ9TdV/Iterative-Policy-Evaluation.png)\n",
    "\n",
    "Let's now compute the value function of the same policy $\\pi$ \n",
    "\n",
    "![example_policy.png](https://i.postimg.cc/pLjHnkj0/example-policy.png)\n",
    "\n",
    "We consider a grid world environment with the following attributes:\n",
    "- Discount factor $\\gamma = 0.9$ (class attribute ``gamma=0.9``)\n",
    "- Stochastic transition matrix (class attribute ``noise=0.2``)\n",
    "- A non-zero living cost and big rewards are obtained at terminal states (class attribute ``living_reward=-0.04``)\n",
    "\n",
    "We have defined the helper function ``encode_policy()`` to encode the policy $\\pi$ shown in the image above. The return variable ``policy_pi`` is a dictionary of dictionaries, where each element corresponds to the probability of selecting an action $a$ at a given state $s$\n",
    "\n",
    "Keep in mind that each action is represented by a number. Action (Up) is represented by 0, (Down) by 1, (Left) by 2 and, finally, (Right) by 3."
   ]
  },
  {
   "cell_type": "code",
   "execution_count": null,
   "metadata": {
    "id": "GJvFXg6_nrYt"
   },
   "outputs": [],
   "source": [
    "grid_world = GridEnv(gamma=0.9, noise=0.2, living_reward=-0.04)\n",
    "policy_pi = encode_policy(grid_world)\n",
    "\n",
    "print(\"Action probabilities at state 0 are:\\n{}\".format(policy_pi[0]))"
   ]
  },
  {
   "cell_type": "markdown",
   "metadata": {
    "id": "_NBGVIs7nrYv"
   },
   "source": [
    "Given the policy $\\pi$, let's know compute its state-value function using iterative policy evaluation.\n",
    "\n",
    "**TODO** (Flux Quiz 3): \n",
    "Complete the computation of value function update for each state. We have decomposed this computation into 2 steps:\n",
    "\n",
    "1. Compute discounted sum of state values of all successor states: $v_{\\text{discounted}} = \\gamma\\sum_{s' \\in \\mathcal{S}}\\mathcal{T}(s,a,s')v(s')$ for each action\n",
    "\n",
    "\n",
    "2. Compute expectation over all actions: $\\sum_{a \\in \\mathcal{A}}\\pi(a|s)(\\mathcal{R}(s,a) + v_{\\text{discounted}})$ \n",
    "\n",
    "\n",
    "**Keep in Mind**: Correspondance between the mathematical notation and implemented code\n",
    "\n",
    "|                         |                                                    |                 |\n",
    "| ----------------------- | -------------------------------------------------- | --------------- |\n",
    "|                         | **Variable/Attribute**                             | **Type**        | \n",
    "| $\\gamma$                | `grid_world.gamma`                                 | `float`         |\n",
    "| $\\mathcal{T}(s, a, s')$ | `grid_world.state_transitions[idx_s, idx_a, idx_s]`| `numpy` 3d-array| \n",
    "| $\\mathcal{R}(s, a)$     | `grid_world.rewards[idx_s, idx_a]`                 | `numpy` 2d-array| \n",
    "| $\\pi(a\\vert s)$         | `policy_pi[idx_s][idx_a]`                          | `dict` of `dict`| \n",
    "| $v_\\pi(s)$              | `v[idx_s]`                                         | `dict`          | \n"
   ]
  },
  {
   "cell_type": "code",
   "execution_count": null,
   "metadata": {
    "id": "W0mO2xNDnrYy"
   },
   "outputs": [],
   "source": [
    "def policy_evaluation(grid_env, policy, plot=False, threshold=0.00001):\n",
    "    \n",
    "    \"\"\"\n",
    "    This function computes the value function for a policy pi in a given environment grid_env.\n",
    "    \n",
    "    :param grid_env (GridEnv): MDP environment\n",
    "    :param policy (dict - stochastic form): Policy being evaluated\n",
    "    :return: (dict) State-values for all non-terminal states\n",
    "    \"\"\"\n",
    "        \n",
    "    # Obtain list of all states in environment\n",
    "    v = {s: 0.0 for s in grid_env.get_states()}\n",
    "    theta = threshold\n",
    "    delta = 1000\n",
    "\n",
    "    while delta > theta:\n",
    "        delta = 0.0\n",
    "        # For all states\n",
    "        for s in v.keys():\n",
    "\n",
    "            old_v = v[s]\n",
    "            new_v = 0\n",
    "\n",
    "            # For all actions\n",
    "            for a, probability_a in policy[s].items():\n",
    "                discounted_v = 0\n",
    "\n",
    "                # For all states that are reachable from s with action a\n",
    "                for s_next in grid_env.get_states():\n",
    "                    #TODO 1: Compute discounted sum of state values for all successor states ---------\n",
    "                    discounted_v += 0\n",
    "                    #ENDTODO -------------------------------------------------------------------------\n",
    "                    \n",
    "                #TODO 2: Compute expectation over all actions ------------------------------------\n",
    "                new_v += 0\n",
    "                #ENDTODO -------------------------------------------------------------------------\n",
    "\n",
    "            v[s] = new_v\n",
    "            delta = max(delta, np.abs(old_v - new_v))\n",
    "\n",
    "    if plot:\n",
    "        plot_value_function(grid_env, v)\n",
    "        \n",
    "    return v\n",
    "        \n",
    "        \n",
    "# Call the policy evalution function\n",
    "v = policy_evaluation(grid_world, policy_pi, plot=True)\n",
    "print(v)"
   ]
  },
  {
   "cell_type": "markdown",
   "metadata": {
    "id": "k1lUgbwxnrZW"
   },
   "source": [
    "# Activity 2. Policy Iteration\n",
    "\n",
    "Recall the definition of the policy iteration algorithm\n",
    "\n",
    "![PolicyIteration.png](https://i.postimg.cc/26kRMDKJ/Policy-Iteration.png)\n",
    "\n",
    "Starting with a random policy, let's find the optimal policy for a grid world environment with attributes:\n",
    "\n",
    "We consider a grid world environment with the following attributes:\n",
    "- Discount factor $\\gamma = 0.9$ (class attribute ``gamma=0.9``)\n",
    "- Stochastic transition matrix (class attribute ``noise=0.2``)\n",
    "- Rewards are only obtained at terminal states (class attribute ``living_reward=-0.04``)\n",
    "\n",
    "We make use of some helper methods:\n",
    "- ``one_step_look_ahead(grid_env, state, value_function)`` in ``Support/gym_simple_gridworlds/helper.py``, this method computes the action-value function for a state $s$ given the state-value function $v$. This corresponds to $\\mathcal{R}(s,a) + \\gamma\\sum_{s' \\in \\mathcal{S}}\\mathcal{T}(s,a,s')v_\\pi(s')\\, \\forall \\, a \\in \\mathcal{A}$\n",
    "\n",
    "\n",
    "- ``update_policy(grid_world, policy, value_function)`` in ``Support/gym_simple_gridworlds/helper.py``, this method updates the current policy $\\pi$ given the state-value function $v$ by taking the action $a$ with the highest action-value. \n",
    "\n",
    "\n",
    "- ``define_random_policy(grid_env)`` in ``Support/gym_simple_gridworlds/helper.py``, this method generates a random policy for environment ``grid_env``"
   ]
  },
  {
   "cell_type": "markdown",
   "metadata": {
    "id": "Gkbgnn5znrZb"
   },
   "source": [
    "Let's now define the policy iteration core algorithm.\n",
    "\n",
    "**TODO** (Flux Quiz 4): Complete the main steps of the policy iteration algoritm.\n",
    "- Use ``policy_evaluation(.)`` in ``Support/gym_simple_gridworlds/helper.py`` to compute the state-value function of a given policy\n",
    "- Use ``update_policy(.)`` in ``Support/gym_simple_gridworlds/helper.py`` to obtain an updated policy"
   ]
  },
  {
   "cell_type": "code",
   "execution_count": null,
   "metadata": {
    "id": "2LoyRYOZnrZh"
   },
   "outputs": [],
   "source": [
    "def policy_iteration(grid_env, policy, plot=False):\n",
    "    \"\"\"\n",
    "    This function iteratively updates a given policy pi for a given environment grid_env until convergence to optimal policy\n",
    "    \n",
    "    :param grid_env (GridEnv): MDP environment\n",
    "    :param policy (matrix from): Deteministic policy being updated\n",
    "    :return: (dict) State-values for all non-terminal states\n",
    "    \"\"\"\n",
    "    prev_policy = np.zeros(policy.shape)\n",
    "    \n",
    "    while not np.all(np.equal(prev_policy, policy)):\n",
    "        \n",
    "        # Encode policy. This policy representation is needed for policy evaluation\n",
    "        encoded_policy = encode_policy(grid_env, policy)\n",
    "        # Set prev_policy to current policy\n",
    "        prev_policy = policy.copy()\n",
    "        \n",
    "        #TODO 3: Complete the remaining steps---------------------------------------------\n",
    "        # 1. Evaluate the given policy (policy_evaluation expects an\n",
    "        #    mdp and the enconded_policy as arguments)\n",
    "        \n",
    "        # 2. Update policy using helper function update_policy\n",
    "        \n",
    "        #ENDTODO -------------------------------------------------------------------------\n",
    "        \n",
    "    if plot:\n",
    "        plot_policy(grid_env, policy)\n",
    "    \n",
    "    return policy\n"
   ]
  },
  {
   "cell_type": "code",
   "execution_count": null,
   "metadata": {
    "id": "S0xgCYfAnrZj"
   },
   "outputs": [],
   "source": [
    "# Create a grid world mdp\n",
    "grid_world = GridEnv(gamma=0.9, noise=0.2, living_reward=-0.04)\n",
    "\n",
    "# Generate an initial random policy\n",
    "initial_policy = define_random_policy(grid_world)\n",
    "\n",
    "# Compute optimal policy using policy iteration\n",
    "optimal_policy = policy_iteration(grid_world, initial_policy, plot=True)"
   ]
  }
 ],
 "metadata": {
  "accelerator": "GPU",
  "colab": {
   "collapsed_sections": [],
   "name": "RLF.ipynb",
   "provenance": []
  },
  "kernelspec": {
   "display_name": "Python 3 (ipykernel)",
   "language": "python",
   "name": "python3"
  },
  "language_info": {
   "codemirror_mode": {
    "name": "ipython",
    "version": 3
   },
   "file_extension": ".py",
   "mimetype": "text/x-python",
   "name": "python",
   "nbconvert_exporter": "python",
   "pygments_lexer": "ipython3",
   "version": "3.8.10"
  },
  "vscode": {
   "interpreter": {
    "hash": "916dbcbb3f70747c44a77c7bcd40155683ae19c65e1c03b4aa3499c5328201f1"
   }
  }
 },
 "nbformat": 4,
 "nbformat_minor": 4
}
